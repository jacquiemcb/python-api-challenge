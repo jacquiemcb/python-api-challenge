{
 "cells": [
  {
   "cell_type": "markdown",
   "metadata": {},
   "source": [
    "# VacationPy\n",
    "----\n",
    "\n",
    "#### Note\n",
    "* Instructions have been included for each segment. You do not have to follow them exactly, but they are included to help you think through the steps."
   ]
  },
  {
   "cell_type": "code",
   "execution_count": 1,
   "metadata": {},
   "outputs": [],
   "source": [
    "# Dependencies and Setup\n",
    "import matplotlib.pyplot as plt\n",
    "import pandas as pd\n",
    "import numpy as np\n",
    "import requests\n",
    "import time\n",
    "from scipy.stats import linregress\n",
    "import gmaps\n",
    "\n",
    "\n",
    "# Import API key\n",
    "from api_keys import weather_api_key,g_key\n",
    "\n",
    "# Incorporated citipy to determine city based on latitude and longitude\n",
    "from citipy import citipy\n",
    "\n",
    "# Output File (CSV)\n",
    "output_data_file = \"output_data/cities.csv\"\n",
    "\n",
    "# Range of latitudes and longitudes\n",
    "lat_range = (-90, 90)\n",
    "lng_range = (-180, 180)\n"
   ]
  },
  {
   "cell_type": "markdown",
   "metadata": {},
   "source": [
    "### Store Part I results into DataFrame\n",
    "* Load the csv exported in Part I to a DataFrame"
   ]
  },
  {
   "cell_type": "code",
   "execution_count": 11,
   "metadata": {},
   "outputs": [
    {
     "ename": "SyntaxError",
     "evalue": "invalid syntax (<ipython-input-11-dd9725bc5ecb>, line 2)",
     "output_type": "error",
     "traceback": [
      "\u001b[1;36m  File \u001b[1;32m\"<ipython-input-11-dd9725bc5ecb>\"\u001b[1;36m, line \u001b[1;32m2\u001b[0m\n\u001b[1;33m    weather_df = pd.read_csv(..\"cities.csv\")\u001b[0m\n\u001b[1;37m                             ^\u001b[0m\n\u001b[1;31mSyntaxError\u001b[0m\u001b[1;31m:\u001b[0m invalid syntax\n"
     ]
    }
   ],
   "source": [
    "# Load the csv exported in Part I to a DataFrame\n",
    "weather_df = pd.read_csv(\"cities.csv\")\n",
    "weather_df.head()\n",
    "\n"
   ]
  },
  {
   "cell_type": "markdown",
   "metadata": {},
   "source": [
    "### Humidity Heatmap\n",
    "* Configure gmaps.\n",
    "* Use the Lat and Lng as locations and Humidity as the weight.\n",
    "* Add Heatmap layer to map."
   ]
  },
  {
   "cell_type": "code",
   "execution_count": 3,
   "metadata": {},
   "outputs": [
    {
     "data": {
      "text/html": [
       "<div>\n",
       "<style scoped>\n",
       "    .dataframe tbody tr th:only-of-type {\n",
       "        vertical-align: middle;\n",
       "    }\n",
       "\n",
       "    .dataframe tbody tr th {\n",
       "        vertical-align: top;\n",
       "    }\n",
       "\n",
       "    .dataframe thead th {\n",
       "        text-align: right;\n",
       "    }\n",
       "</style>\n",
       "<table border=\"1\" class=\"dataframe\">\n",
       "  <thead>\n",
       "    <tr style=\"text-align: right;\">\n",
       "      <th></th>\n",
       "      <th>lat</th>\n",
       "      <th>lng</th>\n",
       "    </tr>\n",
       "  </thead>\n",
       "  <tbody>\n",
       "    <tr>\n",
       "      <th>0</th>\n",
       "      <td>-42.78</td>\n",
       "      <td>147.06</td>\n",
       "    </tr>\n",
       "    <tr>\n",
       "      <th>1</th>\n",
       "      <td>-54.81</td>\n",
       "      <td>-68.31</td>\n",
       "    </tr>\n",
       "    <tr>\n",
       "      <th>2</th>\n",
       "      <td>62.45</td>\n",
       "      <td>-114.38</td>\n",
       "    </tr>\n",
       "    <tr>\n",
       "      <th>3</th>\n",
       "      <td>11.00</td>\n",
       "      <td>122.67</td>\n",
       "    </tr>\n",
       "    <tr>\n",
       "      <th>4</th>\n",
       "      <td>-0.74</td>\n",
       "      <td>-90.35</td>\n",
       "    </tr>\n",
       "  </tbody>\n",
       "</table>\n",
       "</div>"
      ],
      "text/plain": [
       "     lat     lng\n",
       "0 -42.78  147.06\n",
       "1 -54.81  -68.31\n",
       "2  62.45 -114.38\n",
       "3  11.00  122.67\n",
       "4  -0.74  -90.35"
      ]
     },
     "execution_count": 3,
     "metadata": {},
     "output_type": "execute_result"
    }
   ],
   "source": [
    "# Store latitude and longitude in locations\n",
    "locations = weather_df[[\"lat\",\"lng\"]]\n",
    "\n",
    "# Filla NaN values\n",
    "#locations = locations.dropna()\n",
    "locations.head()\n"
   ]
  },
  {
   "cell_type": "code",
   "execution_count": 4,
   "metadata": {},
   "outputs": [],
   "source": [
    "# Defining Humidity as weight\n",
    "weights = weather_df[\"humidity\"].astype(float)"
   ]
  },
  {
   "cell_type": "code",
   "execution_count": 5,
   "metadata": {},
   "outputs": [
    {
     "data": {
      "application/vnd.jupyter.widget-view+json": {
       "model_id": "02d39357235a4ae49954c12e12e94396",
       "version_major": 2,
       "version_minor": 0
      },
      "text/plain": [
       "Figure(layout=FigureLayout(height='420px'))"
      ]
     },
     "metadata": {},
     "output_type": "display_data"
    }
   ],
   "source": [
    "#Set up your map\n",
    "fig = gmaps.figure()\n",
    "fig.add_layer(gmaps.heatmap_layer(locations, weights=weights))\n",
    "fig"
   ]
  },
  {
   "cell_type": "markdown",
   "metadata": {},
   "source": [
    "### Create new DataFrame fitting weather criteria\n",
    "* Narrow down the cities to fit weather conditions.\n",
    "* Drop any rows will null values."
   ]
  },
  {
   "cell_type": "code",
   "execution_count": 6,
   "metadata": {},
   "outputs": [
    {
     "data": {
      "text/plain": [
       "city          7\n",
       "lat           7\n",
       "lng           7\n",
       "max_temp      7\n",
       "humidity      7\n",
       "cloudiness    7\n",
       "windspeed     7\n",
       "dtype: int64"
      ]
     },
     "execution_count": 6,
     "metadata": {},
     "output_type": "execute_result"
    }
   ],
   "source": [
    "# Narrow new DF to the 3 criterias defined for the exercise\n",
    "weather2 = weather_df\n",
    "weather2 = weather2[(weather2[\"max_temp\"] > 70)]\n",
    "weather2 = weather2[(weather2[\"humidity\"] < 80)] \n",
    "weather2 = weather2[(weather2[\"windspeed\"] < 10)]\n",
    "weather2 = weather2[(weather2[\"cloudiness\"] == 0)]\n",
    "\n",
    "# drop null\n",
    "weather2 = weather2.dropna()\n",
    "weather2.count()"
   ]
  },
  {
   "cell_type": "markdown",
   "metadata": {},
   "source": [
    "### Hotel Map\n",
    "* Store into variable named `hotel_df`.\n",
    "* Add a \"Hotel Name\" column to the DataFrame.\n",
    "* Set parameters to search for hotels with 5000 meters.\n",
    "* Hit the Google Places API for each city's coordinates.\n",
    "* Store the first Hotel result into the DataFrame.\n",
    "* Plot markers on top of the heatmap."
   ]
  },
  {
   "cell_type": "code",
   "execution_count": 7,
   "metadata": {},
   "outputs": [
    {
     "data": {
      "text/html": [
       "<div>\n",
       "<style scoped>\n",
       "    .dataframe tbody tr th:only-of-type {\n",
       "        vertical-align: middle;\n",
       "    }\n",
       "\n",
       "    .dataframe tbody tr th {\n",
       "        vertical-align: top;\n",
       "    }\n",
       "\n",
       "    .dataframe thead th {\n",
       "        text-align: right;\n",
       "    }\n",
       "</style>\n",
       "<table border=\"1\" class=\"dataframe\">\n",
       "  <thead>\n",
       "    <tr style=\"text-align: right;\">\n",
       "      <th></th>\n",
       "      <th>city</th>\n",
       "      <th>lat</th>\n",
       "      <th>lng</th>\n",
       "      <th>max_temp</th>\n",
       "      <th>humidity</th>\n",
       "      <th>cloudiness</th>\n",
       "      <th>windspeed</th>\n",
       "      <th>Hotel Name</th>\n",
       "    </tr>\n",
       "  </thead>\n",
       "  <tbody>\n",
       "    <tr>\n",
       "      <th>39</th>\n",
       "      <td>Jamestown</td>\n",
       "      <td>-33.21</td>\n",
       "      <td>138.60</td>\n",
       "      <td>74.52</td>\n",
       "      <td>41</td>\n",
       "      <td>0</td>\n",
       "      <td>8.01</td>\n",
       "      <td></td>\n",
       "    </tr>\n",
       "    <tr>\n",
       "      <th>171</th>\n",
       "      <td>Moyale</td>\n",
       "      <td>3.52</td>\n",
       "      <td>39.05</td>\n",
       "      <td>75.40</td>\n",
       "      <td>55</td>\n",
       "      <td>0</td>\n",
       "      <td>9.28</td>\n",
       "      <td></td>\n",
       "    </tr>\n",
       "    <tr>\n",
       "      <th>311</th>\n",
       "      <td>La Rioja</td>\n",
       "      <td>-29.41</td>\n",
       "      <td>-66.86</td>\n",
       "      <td>70.57</td>\n",
       "      <td>34</td>\n",
       "      <td>0</td>\n",
       "      <td>3.91</td>\n",
       "      <td></td>\n",
       "    </tr>\n",
       "    <tr>\n",
       "      <th>353</th>\n",
       "      <td>Poli</td>\n",
       "      <td>8.48</td>\n",
       "      <td>13.24</td>\n",
       "      <td>71.80</td>\n",
       "      <td>27</td>\n",
       "      <td>0</td>\n",
       "      <td>4.79</td>\n",
       "      <td></td>\n",
       "    </tr>\n",
       "    <tr>\n",
       "      <th>371</th>\n",
       "      <td>Guerrero Negro</td>\n",
       "      <td>27.97</td>\n",
       "      <td>-114.04</td>\n",
       "      <td>72.43</td>\n",
       "      <td>28</td>\n",
       "      <td>0</td>\n",
       "      <td>3.98</td>\n",
       "      <td></td>\n",
       "    </tr>\n",
       "  </tbody>\n",
       "</table>\n",
       "</div>"
      ],
      "text/plain": [
       "               city    lat     lng  max_temp  humidity  cloudiness  windspeed  \\\n",
       "39        Jamestown -33.21  138.60     74.52        41           0       8.01   \n",
       "171          Moyale   3.52   39.05     75.40        55           0       9.28   \n",
       "311        La Rioja -29.41  -66.86     70.57        34           0       3.91   \n",
       "353            Poli   8.48   13.24     71.80        27           0       4.79   \n",
       "371  Guerrero Negro  27.97 -114.04     72.43        28           0       3.98   \n",
       "\n",
       "    Hotel Name  \n",
       "39              \n",
       "171             \n",
       "311             \n",
       "353             \n",
       "371             "
      ]
     },
     "execution_count": 7,
     "metadata": {},
     "output_type": "execute_result"
    }
   ],
   "source": [
    "# Store into variable named hotel_df.\n",
    "hotel_df = weather2\n",
    "\n",
    "# set up additional column to hold information\n",
    "hotel_df['Hotel Name'] = \" \"\n",
    "hotel_df.head()"
   ]
  },
  {
   "cell_type": "code",
   "execution_count": 8,
   "metadata": {},
   "outputs": [
    {
     "name": "stdout",
     "output_type": "stream",
     "text": [
      "Missing field/result... skipping.\n",
      "Missing field/result... skipping.\n",
      "Missing field/result... skipping.\n",
      "Missing field/result... skipping.\n",
      "Missing field/result... skipping.\n",
      "Missing field/result... skipping.\n",
      "Missing field/result... skipping.\n"
     ]
    }
   ],
   "source": [
    "# find the closest hotel of each type to coordinates\n",
    "params = {\n",
    "    \"radius\": 5000,\n",
    "    \"type\": \"hotel\",\n",
    "    \"keyword\": \"hotel\",\n",
    "    \"key\": g_key,}\n",
    "\n",
    "# use iterrows to iterate through pandas dataframe\n",
    "for index, row in hotel_df.iterrows():\n",
    "    # get lat, lng from df\n",
    "    lat = row[\"lat\"]\n",
    "    lng = row[\"lng\"]\n",
    "    \n",
    "    # change location each iteration while leaving original params in place\n",
    "    params[\"location\"] = f\"{lat},{lng}\"\n",
    "    \n",
    "    # Use the search term: \"hotel\" and our lat/lng\n",
    "    base_url = \"https://maps.googleapis.com/maps/api/place/nearbysearch/json\"\n",
    "\n",
    "    # make request and print url\n",
    "    response = requests.get(base_url, params=params)\n",
    "\n",
    "    # convert to json\n",
    "    data = response.json()\n",
    "    \n",
    "    # Since some data may be missing we incorporate a try-except to skip any that are missing a data point.\n",
    "    try:\n",
    "        hotel_df.loc[index, \"Hotel Name\"] = data[\"results\"][0][\"name\"]\n",
    "        \n",
    "    except (KeyError, IndexError):\n",
    "        print(\"Missing field/result... skipping.\")"
   ]
  },
  {
   "cell_type": "code",
   "execution_count": 9,
   "metadata": {},
   "outputs": [
    {
     "data": {
      "text/html": [
       "<div>\n",
       "<style scoped>\n",
       "    .dataframe tbody tr th:only-of-type {\n",
       "        vertical-align: middle;\n",
       "    }\n",
       "\n",
       "    .dataframe tbody tr th {\n",
       "        vertical-align: top;\n",
       "    }\n",
       "\n",
       "    .dataframe thead th {\n",
       "        text-align: right;\n",
       "    }\n",
       "</style>\n",
       "<table border=\"1\" class=\"dataframe\">\n",
       "  <thead>\n",
       "    <tr style=\"text-align: right;\">\n",
       "      <th></th>\n",
       "      <th>city</th>\n",
       "      <th>lat</th>\n",
       "      <th>lng</th>\n",
       "      <th>max_temp</th>\n",
       "      <th>humidity</th>\n",
       "      <th>cloudiness</th>\n",
       "      <th>windspeed</th>\n",
       "      <th>Hotel Name</th>\n",
       "    </tr>\n",
       "  </thead>\n",
       "  <tbody>\n",
       "    <tr>\n",
       "      <th>39</th>\n",
       "      <td>Jamestown</td>\n",
       "      <td>-33.21</td>\n",
       "      <td>138.60</td>\n",
       "      <td>74.52</td>\n",
       "      <td>41</td>\n",
       "      <td>0</td>\n",
       "      <td>8.01</td>\n",
       "      <td></td>\n",
       "    </tr>\n",
       "    <tr>\n",
       "      <th>171</th>\n",
       "      <td>Moyale</td>\n",
       "      <td>3.52</td>\n",
       "      <td>39.05</td>\n",
       "      <td>75.40</td>\n",
       "      <td>55</td>\n",
       "      <td>0</td>\n",
       "      <td>9.28</td>\n",
       "      <td></td>\n",
       "    </tr>\n",
       "    <tr>\n",
       "      <th>311</th>\n",
       "      <td>La Rioja</td>\n",
       "      <td>-29.41</td>\n",
       "      <td>-66.86</td>\n",
       "      <td>70.57</td>\n",
       "      <td>34</td>\n",
       "      <td>0</td>\n",
       "      <td>3.91</td>\n",
       "      <td></td>\n",
       "    </tr>\n",
       "    <tr>\n",
       "      <th>353</th>\n",
       "      <td>Poli</td>\n",
       "      <td>8.48</td>\n",
       "      <td>13.24</td>\n",
       "      <td>71.80</td>\n",
       "      <td>27</td>\n",
       "      <td>0</td>\n",
       "      <td>4.79</td>\n",
       "      <td></td>\n",
       "    </tr>\n",
       "    <tr>\n",
       "      <th>371</th>\n",
       "      <td>Guerrero Negro</td>\n",
       "      <td>27.97</td>\n",
       "      <td>-114.04</td>\n",
       "      <td>72.43</td>\n",
       "      <td>28</td>\n",
       "      <td>0</td>\n",
       "      <td>3.98</td>\n",
       "      <td></td>\n",
       "    </tr>\n",
       "    <tr>\n",
       "      <th>407</th>\n",
       "      <td>Rio Cuarto</td>\n",
       "      <td>-33.13</td>\n",
       "      <td>-64.35</td>\n",
       "      <td>73.40</td>\n",
       "      <td>40</td>\n",
       "      <td>0</td>\n",
       "      <td>3.36</td>\n",
       "      <td></td>\n",
       "    </tr>\n",
       "    <tr>\n",
       "      <th>478</th>\n",
       "      <td>Tabou</td>\n",
       "      <td>4.42</td>\n",
       "      <td>-7.36</td>\n",
       "      <td>71.53</td>\n",
       "      <td>70</td>\n",
       "      <td>0</td>\n",
       "      <td>2.80</td>\n",
       "      <td></td>\n",
       "    </tr>\n",
       "  </tbody>\n",
       "</table>\n",
       "</div>"
      ],
      "text/plain": [
       "               city    lat     lng  max_temp  humidity  cloudiness  windspeed  \\\n",
       "39        Jamestown -33.21  138.60     74.52        41           0       8.01   \n",
       "171          Moyale   3.52   39.05     75.40        55           0       9.28   \n",
       "311        La Rioja -29.41  -66.86     70.57        34           0       3.91   \n",
       "353            Poli   8.48   13.24     71.80        27           0       4.79   \n",
       "371  Guerrero Negro  27.97 -114.04     72.43        28           0       3.98   \n",
       "407      Rio Cuarto -33.13  -64.35     73.40        40           0       3.36   \n",
       "478           Tabou   4.42   -7.36     71.53        70           0       2.80   \n",
       "\n",
       "    Hotel Name  \n",
       "39              \n",
       "171             \n",
       "311             \n",
       "353             \n",
       "371             \n",
       "407             \n",
       "478             "
      ]
     },
     "execution_count": 9,
     "metadata": {},
     "output_type": "execute_result"
    }
   ],
   "source": [
    "hotel_df\n"
   ]
  },
  {
   "cell_type": "code",
   "execution_count": 10,
   "metadata": {},
   "outputs": [
    {
     "ename": "SyntaxError",
     "evalue": "EOF while scanning triple-quoted string literal (<ipython-input-10-d890976b392e>, line 20)",
     "output_type": "error",
     "traceback": [
      "\u001b[1;36m  File \u001b[1;32m\"<ipython-input-10-d890976b392e>\"\u001b[1;36m, line \u001b[1;32m20\u001b[0m\n\u001b[1;33m    fig\u001b[0m\n\u001b[1;37m       \n^\u001b[0m\n\u001b[1;31mSyntaxError\u001b[0m\u001b[1;31m:\u001b[0m EOF while scanning triple-quoted string literal\n"
     ]
    }
   ],
   "source": [
    "fig = gmaps.figure(layout={\n",
    "        'padding': '3px',\n",
    "        'border': '1px solid black'\n",
    "})\n",
    "locations2 = hotel_df[[\"lat\", \"lng\"]]\n",
    "fig.add_layer(gmaps.heatmap_layer(locations2))\n",
    "# Using the template add the hotel marks to the heatmap\n",
    "info_box_template = \"\"\"\n",
    "<dl>\n",
    "<dt>Name</dt>\n",
    "<dd>Hotel Name</dd>\n",
    "<dt>city</dt>\n",
    "<dd>City</dd>\n",
    "<dt>Country</dt>\n",
    "<dd>Country</dd>\n",
    "</dl>\n",
    "\n",
    "hotel_df = [info_box_template.format(**row) for index, row in hotel_df.iterrows()]\n",
    " #Display Map\n",
    "fig"
   ]
  },
  {
   "cell_type": "code",
   "execution_count": null,
   "metadata": {},
   "outputs": [],
   "source": []
  },
  {
   "cell_type": "code",
   "execution_count": null,
   "metadata": {},
   "outputs": [],
   "source": []
  },
  {
   "cell_type": "code",
   "execution_count": null,
   "metadata": {},
   "outputs": [],
   "source": [
    "\n",
    "#<dd>{Hotel Name}</dd>\n",
    "#<dt>city</dt><dd>{City}</dd>\n",
    "#<dt>Country</dt><dd>{Country}</dd>\n",
    "#</dl>"
   ]
  }
 ],
 "metadata": {
  "kernelspec": {
   "display_name": "Python 3",
   "language": "python",
   "name": "python3"
  },
  "language_info": {
   "codemirror_mode": {
    "name": "ipython",
    "version": 3
   },
   "file_extension": ".py",
   "mimetype": "text/x-python",
   "name": "python",
   "nbconvert_exporter": "python",
   "pygments_lexer": "ipython3",
   "version": "3.7.4"
  },
  "latex_envs": {
   "LaTeX_envs_menu_present": true,
   "autoclose": false,
   "autocomplete": true,
   "bibliofile": "biblio.bib",
   "cite_by": "apalike",
   "current_citInitial": 1,
   "eqLabelWithNumbers": true,
   "eqNumInitial": 1,
   "hotkeys": {
    "equation": "Ctrl-E",
    "itemize": "Ctrl-I"
   },
   "labels_anchors": false,
   "latex_user_defs": false,
   "report_style_numbering": false,
   "user_envs_cfg": false
  }
 },
 "nbformat": 4,
 "nbformat_minor": 2
}
